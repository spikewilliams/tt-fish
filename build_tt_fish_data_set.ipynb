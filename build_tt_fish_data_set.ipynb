{
 "metadata": {
  "name": "",
  "signature": "sha256:15e0a7a35e5a13f56ca9415d9303896ee579994250feddb16d245827e6700db5"
 },
 "nbformat": 3,
 "nbformat_minor": 0,
 "worksheets": [
  {
   "cells": [
    {
     "cell_type": "code",
     "collapsed": false,
     "input": [
      "import urllib\n",
      "import os\n",
      "import pandas as pd\n",
      "\n",
      "from datetime import date, timedelta"
     ],
     "language": "python",
     "metadata": {},
     "outputs": [],
     "prompt_number": 30
    },
    {
     "cell_type": "code",
     "collapsed": false,
     "input": [
      "months = [\"January\",\"February\",\"March\",\"April\",\"May\",\"June\",\"July\",\"August\",\"September\",\"October\",\"November\",\"December\"]\n",
      "def get_month(day):\n",
      "    return months[day.month - 1]\n",
      "\n",
      "def get_data(day, market):\n",
      "    url = \"http://www.namistt.com/DocumentLibrary/Market%20Reports/Daily/Daily%20\" + \\\n",
      "        market + \"%20\" + str(day.day).zfill(2) + \"%20\" + get_month(day) + \"%20\" + str(day.year) + \".xls\"\n",
      "    print(url)\n",
      "    response = urllib.request.urlopen(url)\n",
      "    xlfile = pd.ExcelFile(response)\n",
      "    df = xlfile.parse(xlfile.sheet_names[0], skiprows=range(0,10))\n",
      "    df = df.dropna()\n",
      "    df[\"Date\"] = \"%i%s%s\" % (day.year,str(day.month).zfill(2),str(day.day).zfill(2))\n",
      "    df[\"Market\"] = market\n",
      "    if len(df.columns) == 9: # fix some corruption of Column names\n",
      "        df.columns = ['Commodity', 'Unit', 'Min', 'Max', 'Mode', 'Average', 'Volumes', 'Date', 'Market']\n",
      "    return df"
     ],
     "language": "python",
     "metadata": {},
     "outputs": [],
     "prompt_number": 31
    },
    {
     "cell_type": "code",
     "collapsed": false,
     "input": [
      "base_path = \"c:/data/\"\n",
      "\n",
      "def last_day_of_month(date):\n",
      "    if date.month == 12:\n",
      "        return date.replace(day=31)\n",
      "    return date.replace(month=date.month+1, day=1) - datetime.timedelta(days=1)\n",
      "\n",
      "def build_month(year,month,market):\n",
      "    start_date = date(year,month,1)\n",
      "    end_date = last_day_of_month(start_date)\n",
      "    df = pd.DataFrame()\n",
      "    d = start_date\n",
      "    delta = datetime.timedelta(days=1)\n",
      "    while d <= end_date and d <= date.today():\n",
      "        try:\n",
      "            ndf = get_data(d, market)\n",
      "            df = pd.concat([df, ndf])\n",
      "        except:\n",
      "            print(\"Could not download data for %i %s %i\" % (d.day, getMonth(d), d.year))\n",
      "        d += delta\n",
      "    file_path = base_path + market + \"_\" + str(year) + str(month).zfill(2) + \".csv\"\n",
      "    print(df)\n",
      "    if len(df.columns) == 9:\n",
      "        df = df[[\"Date\",\"Market\",\"Commodity\",\"Unit\",\"Min\",\"Max\",\"Mode\",\"Average\",\"Volumes\"]]\n",
      "    else:\n",
      "        df = df[[\"Date\",\"Market\",\"Commodity\",\"Unit\",\"Min\",\"Max\",\"Mode\",\"Volumes\"]] # older data does not have Average\n",
      "    df.to_csv(file_path, encoding=\"utf8\", index=False)   \n",
      "    return df\n",
      "\n",
      "\n"
     ],
     "language": "python",
     "metadata": {},
     "outputs": [],
     "prompt_number": 32
    },
    {
     "cell_type": "code",
     "collapsed": false,
     "input": [
      "#market = \"POSWFM\"\n",
      "market = \"OVWFM\"\n",
      "for month in range(12,0,-1):\n",
      "    build_month(2012,month,market)"
     ],
     "language": "python",
     "metadata": {},
     "outputs": [
      {
       "output_type": "stream",
       "stream": "stdout",
       "text": [
        "http://www.namistt.com/DocumentLibrary/Market%20Reports/Daily/Daily%20OVWFM%2001%20December%202012.xls\n",
        "Could not download data for 1 December 2012"
       ]
      },
      {
       "output_type": "stream",
       "stream": "stdout",
       "text": [
        "\n",
        "http://www.namistt.com/DocumentLibrary/Market%20Reports/Daily/Daily%20OVWFM%2002%20December%202012.xls\n",
        "Could not download data for 2 December 2012"
       ]
      },
      {
       "output_type": "stream",
       "stream": "stdout",
       "text": [
        "\n",
        "http://www.namistt.com/DocumentLibrary/Market%20Reports/Daily/Daily%20OVWFM%2003%20December%202012.xls\n",
        "http://www.namistt.com/DocumentLibrary/Market%20Reports/Daily/Daily%20OVWFM%2004%20December%202012.xls"
       ]
      },
      {
       "output_type": "stream",
       "stream": "stdout",
       "text": [
        "\n",
        "http://www.namistt.com/DocumentLibrary/Market%20Reports/Daily/Daily%20OVWFM%2005%20December%202012.xls"
       ]
      },
      {
       "output_type": "stream",
       "stream": "stdout",
       "text": [
        "\n",
        "Could not download data for 5 December 2012"
       ]
      },
      {
       "output_type": "stream",
       "stream": "stdout",
       "text": [
        "\n",
        "http://www.namistt.com/DocumentLibrary/Market%20Reports/Daily/Daily%20OVWFM%2006%20December%202012.xls\n",
        "http://www.namistt.com/DocumentLibrary/Market%20Reports/Daily/Daily%20OVWFM%2007%20December%202012.xls"
       ]
      },
      {
       "output_type": "stream",
       "stream": "stdout",
       "text": [
        "\n",
        "http://www.namistt.com/DocumentLibrary/Market%20Reports/Daily/Daily%20OVWFM%2008%20December%202012.xls"
       ]
      },
      {
       "output_type": "stream",
       "stream": "stdout",
       "text": [
        "\n",
        "Could not download data for 8 December 2012"
       ]
      },
      {
       "output_type": "stream",
       "stream": "stdout",
       "text": [
        "\n",
        "http://www.namistt.com/DocumentLibrary/Market%20Reports/Daily/Daily%20OVWFM%2009%20December%202012.xls\n",
        "Could not download data for 9 December 2012"
       ]
      },
      {
       "output_type": "stream",
       "stream": "stdout",
       "text": [
        "\n",
        "http://www.namistt.com/DocumentLibrary/Market%20Reports/Daily/Daily%20OVWFM%2010%20December%202012.xls\n",
        "http://www.namistt.com/DocumentLibrary/Market%20Reports/Daily/Daily%20OVWFM%2011%20December%202012.xls"
       ]
      },
      {
       "output_type": "stream",
       "stream": "stdout",
       "text": [
        "\n",
        "http://www.namistt.com/DocumentLibrary/Market%20Reports/Daily/Daily%20OVWFM%2012%20December%202012.xls"
       ]
      }
     ]
    },
    {
     "cell_type": "code",
     "collapsed": false,
     "input": [
      "df = pd.DataFrame()\n",
      "\n",
      "for filename in os.listdir(basedir):\n",
      "    if not filename.endswith(\"csv\"):\n",
      "        continue\n",
      "    fd = pd.read_csv(basedir + filename)\n",
      "    df = pd.concat([df,fd])\n",
      "    \n",
      "df.to_csv(basedir + \"all/tt_fish_prices.csv\", encoding=\"utf8\", index=False)   "
     ],
     "language": "python",
     "metadata": {},
     "outputs": []
    },
    {
     "cell_type": "code",
     "collapsed": false,
     "input": [],
     "language": "python",
     "metadata": {},
     "outputs": []
    }
   ],
   "metadata": {}
  }
 ]
}